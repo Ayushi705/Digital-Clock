{
 "cells": [
  {
   "cell_type": "code",
   "execution_count": 1,
   "id": "4d54ee81",
   "metadata": {},
   "outputs": [
    {
     "name": "stdout",
     "output_type": "stream",
     "text": [
      "2023-09-09 13:49:22.130661\n"
     ]
    }
   ],
   "source": [
    "from tkinter import *\n",
    "import datetime\n",
    "\n",
    "print(datetime.datetime.now())\n",
    "\n",
    "def date_time():\n",
    "    time=datetime.datetime.now()\n",
    "    hr=time.strftime('%I')\n",
    "    mi=time.strftime(\"%M\")\n",
    "    se=time.strftime('%S')\n",
    "    amm=time.strftime('%p')\n",
    "    \n",
    "    #config---time\n",
    "    hour.config(text=hr)\n",
    "    minn.config(text=mi)\n",
    "    sec.config(text=se)\n",
    "    am.config(text=amm)\n",
    "    \n",
    "    d=time.strftime('%d')\n",
    "    mon=time.strftime('%m')\n",
    "    ye=time.strftime('%y')\n",
    "    da=time.strftime('%a')\n",
    "    \n",
    "    #config---Date\n",
    "    \n",
    "    date.config(text=d)\n",
    "    month.config(text=mon)\n",
    "    Year.config(text=ye)\n",
    "    Day.config(text=da)\n",
    "    \n",
    "    hour.after(200,date_time)\n",
    "    \n",
    "clock=Tk()\n",
    "clock.title('  Clock  ')\n",
    "clock.geometry('1000x500')\n",
    "clock.config(bg='grey')\n",
    "\n",
    "#time\n",
    "\n",
    "hour=Label(clock,text=\"00\",font=('Time New Roman',60,'bold'),bg='black' ,fg='white')\n",
    "hour.place(x=120, y=44 ,height=110,width=100)\n",
    "\n",
    "minn=Label(clock,text=\"00\",font=('Time New Roman',60,'bold'),bg='black' ,fg='white')\n",
    "minn.place(x=340, y=44 ,height=110,width=100)\n",
    "\n",
    "sec=Label(clock,text=\"00\",font=('Time New Roman',60,'bold'),bg='black' ,fg='white')\n",
    "sec.place(x=560, y=44 ,height=110,width=100)\n",
    "\n",
    "am=Label(clock,text=\"00\",font=('Time New Roman',60,'bold'),bg='black' ,fg='white')\n",
    "am.place(x=780, y=44 ,height=110,width=100)\n",
    "\n",
    "#date\n",
    "\n",
    "date=Label(clock,text=\"00\",font=('Time New Roman',60,'bold'),bg='black' ,fg='white')\n",
    "date.place(x=120, y=270 ,height=110,width=100)\n",
    "\n",
    "month=Label(clock,text=\"00\",font=('Time New Roman',60,'bold'),bg='black' ,fg='white')\n",
    "month.place(x=340, y=270 ,height=110,width=100)\n",
    "\n",
    "Year=Label(clock,text=\"00\",font=('Time New Roman',60,'bold'),bg='black' ,fg='white')\n",
    "Year.place(x=560, y=270 ,height=110,width=100)\n",
    "\n",
    "Day=Label(clock,text=\"00\",font=('Time New Roman',30,'bold'),bg='black' ,fg='white')\n",
    "Day.place(x=780, y= 270,height=110,width=100)\n",
    "\n",
    "\n",
    "\n",
    "date_time()\n",
    "clock.mainloop()"
   ]
  },
  {
   "cell_type": "code",
   "execution_count": null,
   "id": "d2fe877f",
   "metadata": {},
   "outputs": [],
   "source": []
  }
 ],
 "metadata": {
  "kernelspec": {
   "display_name": "Python 3 (ipykernel)",
   "language": "python",
   "name": "python3"
  },
  "language_info": {
   "codemirror_mode": {
    "name": "ipython",
    "version": 3
   },
   "file_extension": ".py",
   "mimetype": "text/x-python",
   "name": "python",
   "nbconvert_exporter": "python",
   "pygments_lexer": "ipython3",
   "version": "3.10.9"
  }
 },
 "nbformat": 4,
 "nbformat_minor": 5
}
